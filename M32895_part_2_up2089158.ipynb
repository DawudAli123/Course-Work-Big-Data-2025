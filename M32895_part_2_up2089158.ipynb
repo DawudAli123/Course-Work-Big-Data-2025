{
 "cells": [
  {
   "cell_type": "markdown",
   "id": "1ad43976",
   "metadata": {},
   "source": [
    "## M32895 Portfolio Part 2 – UP2089158"
   ]
  },
  {
   "cell_type": "markdown",
   "id": "c17d2553",
   "metadata": {},
   "source": [
    "## Exercise 1"
   ]
  },
  {
   "cell_type": "code",
   "execution_count": null,
   "id": "79e1abe7",
   "metadata": {},
   "outputs": [],
   "source": [
    "# Exercise 1: Create and analyze a random DataFrame\n",
    "import pandas as pd\n",
    "import numpy as np\n",
    "\n",
    "# Generate a DataFrame with random numbers\n",
    "df = pd.DataFrame(np.random.rand(6, 4), columns=['A', 'B', 'C', 'D'], index=['R1', 'R2', 'R3', 'R4', 'R5', 'R6'])\n",
    "\n",
    "print(\"DataFrame:\")\n",
    "print(df)\n",
    "\n",
    "# Summary of the DataFrame\n",
    "print(\"\\nShape of DataFrame:\", df.shape)\n",
    "print(\"\\nData Summary:\")\n",
    "print(df.describe())\n"
   ]
  },
  {
   "cell_type": "markdown",
   "id": "293599b3",
   "metadata": {},
   "source": [
    "## Exercise 2"
   ]
  },
  {
   "cell_type": "code",
   "execution_count": null,
   "id": "8875f0f1",
   "metadata": {},
   "outputs": [],
   "source": [
    "# Exercise 2: Boxplots of Iris dataset using matplotlib\n",
    "import seaborn as sns\n",
    "import matplotlib.pyplot as plt\n",
    "\n",
    "# Load Iris dataset\n",
    "iris = sns.load_dataset(\"iris\")\n",
    "\n",
    "# Create boxplots for each numeric column\n",
    "iris.drop(columns=['species']).plot(kind='box', subplots=True, layout=(2,2), figsize=(10,6), title='Iris Boxplots')\n",
    "plt.tight_layout()\n",
    "plt.show()"
   ]
  },
  {
   "cell_type": "markdown",
   "id": "919288ba",
   "metadata": {},
   "source": [
    "## Exercise 3"
   ]
  },
  {
   "cell_type": "code",
   "execution_count": null,
   "id": "0099c5ba",
   "metadata": {},
   "outputs": [],
   "source": [
    "# Exercise 3: Sunburst chart of tips data using plotly.express\n",
    "import plotly.express as px\n",
    "import seaborn as sns\n",
    "\n",
    "# Load Tips dataset\n",
    "tips = sns.load_dataset(\"tips\")\n",
    "\n",
    "# Sunburst chart\n",
    "fig = px.sunburst(tips, path=['sex', 'day', 'time'], values='tip', title='Sunburst of Tips by Gender, Day, and Time')\n",
    "fig.show()\n"
   ]
  },
  {
   "cell_type": "markdown",
   "id": "f5f0c794",
   "metadata": {},
   "source": [
    "## Exercise 4"
   ]
  },
  {
   "cell_type": "code",
   "execution_count": null,
   "id": "9553d538",
   "metadata": {},
   "outputs": [],
   "source": [
    "# Exercise 4: Linear regression on restaurant tips\n",
    "from sklearn.linear_model import LinearRegression\n",
    "import numpy as np\n",
    "\n",
    "# Reshape input for sklearn\n",
    "X = tips[['total_bill']].values\n",
    "y = tips['tip'].values\n",
    "\n",
    "# Train model\n",
    "model = LinearRegression()\n",
    "model.fit(X, y)\n",
    "\n",
    "# Print model parameters\n",
    "print(f\"Coefficient: {model.coef_[0]}\")\n",
    "print(f\"Intercept: {model.intercept_}\")\n",
    "\n",
    "# Predict tip for a bill of $30\n",
    "bill_example = np.array([[30]])\n",
    "predicted_tip = model.predict(bill_example)\n",
    "print(f\"Predicted tip for a $30 bill: ${predicted_tip[0]:.2f}\")"
   ]
  },
  {
   "cell_type": "markdown",
   "id": "4a70d65f",
   "metadata": {},
   "source": [
    "## Exercise 5"
   ]
  },
  {
   "cell_type": "code",
   "execution_count": null,
   "id": "32f5f71f",
   "metadata": {},
   "outputs": [],
   "source": [
    "# Exercise 5: Titanic Decision Tree with categorical features\n",
    "import pandas as pd\n",
    "import seaborn as sns\n",
    "import matplotlib.pyplot as plt\n",
    "\n",
    "from sklearn.model_selection import train_test_split\n",
    "from sklearn.tree import DecisionTreeClassifier\n",
    "from sklearn.preprocessing import OneHotEncoder\n",
    "from sklearn.compose import ColumnTransformer\n",
    "from sklearn.pipeline import Pipeline\n",
    "from sklearn.metrics import accuracy_score\n",
    "\n",
    "# Load Titanic dataset\n",
    "titanic = sns.load_dataset('titanic')\n",
    "\n",
    "# Drop rows with missing values in required columns\n",
    "titanic_clean = titanic.dropna(subset=['sex', 'embarked', 'age', 'fare'])\n",
    "\n",
    "# Define features and target\n",
    "features = ['sex', 'sibsp', 'parch', 'embarked', 'age', 'fare']\n",
    "target = 'survived'\n",
    "X = titanic_clean[features]\n",
    "y = titanic_clean[target]\n",
    "\n",
    "# Define categorical and numerical columns\n",
    "categorical_features = ['sex', 'embarked']\n",
    "numeric_features = ['sibsp', 'parch', 'age', 'fare']\n",
    "\n",
    "# One-hot encode categorical features\n",
    "preprocessor = ColumnTransformer(\n",
    "    transformers=[('cat', OneHotEncoder(), categorical_features)],\n",
    "    remainder='passthrough'\n",
    ")\n",
    "\n",
    "# Create pipeline with Decision Tree\n",
    "pipeline = Pipeline(steps=[\n",
    "    ('preprocessor', preprocessor),\n",
    "    ('classifier', DecisionTreeClassifier(random_state=42))\n",
    "])\n",
    "\n",
    "X_train, X_test, y_train, y_test = train_test_split(X, y, test_size=0.2, random_state=42)\n",
    "\n",
    "pipeline.fit(X_train, y_train)\n",
    "\n",
    "y_pred = pipeline.predict(X_test)\n",
    "\n",
    "accuracy = accuracy_score(y_test, y_pred)\n",
    "print(f\"Model Accuracy: {accuracy:.2f}\")\n",
    "\n",
    "# Predict outcome for a sample passenger\n",
    "sample_passenger = pd.DataFrame([{\n",
    "    'sex': 'male',\n",
    "    'sibsp': 1,\n",
    "    'parch': 0,\n",
    "    'embarked': 'S',\n",
    "    'age': 30,\n",
    "    'fare': 75.0\n",
    "}])\n",
    "sample_prediction = pipeline.predict(sample_passenger)\n",
    "print(f\"Prediction for sample passenger: {'Survived' if sample_prediction[0] == 1 else 'Did not survive'}\")\n",
    "\n",
    "importances = pipeline.named_steps['classifier'].feature_importances_\n",
    "encoded_cat_names = pipeline.named_steps['preprocessor'].named_transformers_['cat'].get_feature_names_out(categorical_features)\n",
    "feature_names = list(encoded_cat_names) + numeric_features\n",
    "\n",
    "plt.figure(figsize=(10, 6))\n",
    "plt.barh(feature_names, importances)\n",
    "plt.xlabel('Importance')\n",
    "plt.title('Feature Importances – Titanic Decision Tree Model')\n",
    "plt.tight_layout()\n",
    "plt.show()\n"
   ]
  }
 ],
 "metadata": {
  "kernelspec": {
   "display_name": "Python 3",
   "language": "python",
   "name": "python3"
  },
  "language_info": {
   "codemirror_mode": {
    "name": "ipython",
    "version": 3
   },
   "file_extension": ".py",
   "mimetype": "text/x-python",
   "name": "python",
   "nbconvert_exporter": "python",
   "pygments_lexer": "ipython3",
   "version": "3.12.1"
  }
 },
 "nbformat": 4,
 "nbformat_minor": 5
}
