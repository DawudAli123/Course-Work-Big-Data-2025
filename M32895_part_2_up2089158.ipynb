{
 "cells": [
  {
   "cell_type": "code",
   "execution_count": 1,
   "id": "79e1abe7",
   "metadata": {},
   "outputs": [
    {
     "name": "stdout",
     "output_type": "stream",
     "text": [
      "DataFrame:\n",
      "           A         B         C         D\n",
      "R1  0.197761  0.260214  0.175272  0.852433\n",
      "R2  0.463346  0.136924  0.911003  0.685084\n",
      "R3  0.976517  0.230896  0.952038  0.100073\n",
      "R4  0.958900  0.872937  0.618227  0.036427\n",
      "R5  0.291297  0.229351  0.950314  0.353411\n",
      "R6  0.879351  0.949835  0.896114  0.943807\n",
      "\n",
      "Shape of DataFrame: (6, 4)\n",
      "\n",
      "Data Summary:\n",
      "              A         B         C         D\n",
      "count  6.000000  6.000000  6.000000  6.000000\n",
      "mean   0.627862  0.446693  0.750495  0.495206\n",
      "std    0.352057  0.363145  0.308510  0.387717\n",
      "min    0.197761  0.136924  0.175272  0.036427\n",
      "25%    0.334309  0.229737  0.687699  0.163407\n",
      "50%    0.671349  0.245555  0.903559  0.519247\n",
      "75%    0.939013  0.719756  0.940487  0.810596\n",
      "max    0.976517  0.949835  0.952038  0.943807\n"
     ]
    }
   ],
   "source": [
    "# Exercise 1: Create and analyze a random DataFrame\n",
    "import pandas as pd\n",
    "import numpy as np\n",
    "\n",
    "# Generate a DataFrame with random numbers\n",
    "df = pd.DataFrame(np.random.rand(6, 4), columns=['A', 'B', 'C', 'D'], index=['R1', 'R2', 'R3', 'R4', 'R5', 'R6'])\n",
    "\n",
    "print(\"DataFrame:\")\n",
    "print(df)\n",
    "\n",
    "# Summary of the DataFrame\n",
    "print(\"\\nShape of DataFrame:\", df.shape)\n",
    "print(\"\\nData Summary:\")\n",
    "print(df.describe())\n"
   ]
  }
 ],
 "metadata": {
  "kernelspec": {
   "display_name": "Python 3",
   "language": "python",
   "name": "python3"
  },
  "language_info": {
   "codemirror_mode": {
    "name": "ipython",
    "version": 3
   },
   "file_extension": ".py",
   "mimetype": "text/x-python",
   "name": "python",
   "nbconvert_exporter": "python",
   "pygments_lexer": "ipython3",
   "version": "3.12.1"
  }
 },
 "nbformat": 4,
 "nbformat_minor": 5
}
