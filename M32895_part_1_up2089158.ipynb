{
 "cells": [
  {
   "cell_type": "code",
   "execution_count": 1,
   "metadata": {},
   "outputs": [
    {
     "name": "stdout",
     "output_type": "stream",
     "text": [
      "this is a prime number\n"
     ]
    }
   ],
   "source": [
    "def is_prime(n):\n",
    "    if n < 2:\n",
    "        return False\n",
    "    for i in range(2, int(n ** 0.5) + 1):\n",
    "        if n % i == 0:\n",
    "            return False\n",
    "    return True\n",
    "\n",
    "num = int(input(\"enter a number: \"))\n",
    "if is_prime(num):\n",
    "    print(\"this is a prime number\")\n",
    "else:\n",
    "    print(\"this is not a prime number\")"
   ]
  },
  {
   "cell_type": "code",
   "execution_count": 2,
   "metadata": {},
   "outputs": [
    {
     "name": "stdout",
     "output_type": "stream",
     "text": [
      "Fibonacci Sequence: [0, 1, 1, 2, 3, 5, 8, 13, 21, 34, 55, 89, 144, 233, 377, 610, 987]\n"
     ]
    }
   ],
   "source": [
    "# Function to generate Fibonacci sequence\n",
    "def fibonacci(n):\n",
    "    fib = [0, 1]\n",
    "    for i in range(2, n):\n",
    "        fib.append(fib[-1] + fib[-2])\n",
    "    return fib[:n]\n",
    "\n",
    "# Ask user for input\n",
    "num_terms = int(input(\"Enter number of Fibonacci terms: \"))\n",
    "print(\"Fibonacci Sequence:\", fibonacci(num_terms))\n"
   ]
  },
  {
   "cell_type": "code",
   "execution_count": 3,
   "metadata": {},
   "outputs": [
    {
     "name": "stdout",
     "output_type": "stream",
     "text": [
      "* * * * * * * * * * \n",
      "* * * * * * * * * \n",
      "* * * * * * * * \n",
      "* * * * * * * \n",
      "* * * * * * \n",
      "* * * * * \n",
      "* * * * \n",
      "* * * \n",
      "* * \n",
      "* \n"
     ]
    }
   ],
   "source": [
    "# Print decreasing triangle pattern\n",
    "rows = 10\n",
    "for i in range(rows, 0, -1):\n",
    "    print('* ' * i)\n"
   ]
  },
  {
   "cell_type": "code",
   "execution_count": 6,
   "metadata": {},
   "outputs": [
    {
     "name": "stdout",
     "output_type": "stream",
     "text": [
      "Reversed String: aduwad\n"
     ]
    }
   ],
   "source": [
    "# Function to reverse a string\n",
    "def reverse_string():\n",
    "    text = input(\"Enter a string: \")\n",
    "    print(\"Reversed String:\", text[::-1])\n",
    "\n",
    "# Run the function\n",
    "reverse_string()\n"
   ]
  },
  {
   "cell_type": "code",
   "execution_count": 9,
   "metadata": {},
   "outputs": [
    {
     "name": "stdout",
     "output_type": "stream",
     "text": [
      "Min value is: 2\n",
      "Max value is: 10\n"
     ]
    }
   ],
   "source": [
    "# Function to find min and max in an iterable\n",
    "def min_max(iterable):\n",
    "    return min(iterable), max(iterable)\n",
    "\n",
    "# Example usage\n",
    "numbers = [3, 7, 2, 9, 5, 10, 7, 6]\n",
    "min_val, max_val = min_max(numbers)\n",
    "print(\"Min value is:\", min_val)\n",
    "print(\"Max value is:\", max_val)\n"
   ]
  },
  {
   "cell_type": "code",
   "execution_count": 12,
   "metadata": {},
   "outputs": [
    {
     "name": "stdout",
     "output_type": "stream",
     "text": [
      "Too high! Try again.\n",
      "Too low! Try again.\n",
      "Too high! Try again.\n",
      "Too high! Try again.\n",
      "Too high! Try again.\n",
      "Too high! Try again.\n",
      "Correct! You guessed the number.\n"
     ]
    }
   ],
   "source": [
    "import random\n",
    "\n",
    "# Randomly choose a number between 1 and 10\n",
    "secret_number = random.randint(1, 10)\n",
    "\n",
    "while True:\n",
    "    guess = int(input(\"Guess a number (1-10): \"))\n",
    "    \n",
    "    if guess > secret_number:\n",
    "        print(\"Too high! Try again.\")\n",
    "    elif guess < secret_number:\n",
    "        print(\"Too low! Try again.\")\n",
    "    else:\n",
    "        print(\"Correct! You guessed the number.\")\n",
    "        break\n"
   ]
  },
  {
   "cell_type": "code",
   "execution_count": 13,
   "metadata": {},
   "outputs": [
    {
     "name": "stdout",
     "output_type": "stream",
     "text": [
      "Incorrect password. Try again.\n",
      "Incorrect password. Try again.\n",
      "Incorrect password. Try again.\n",
      "Access Granted!\n"
     ]
    }
   ],
   "source": [
    "# Password checker loop\n",
    "correct_password = \"Python123\"\n",
    "\n",
    "while True:\n",
    "    password = input(\"Enter password: \")\n",
    "    if password == correct_password:\n",
    "        print(\"Access Granted!\")\n",
    "        break\n",
    "    else:\n",
    "        print(\"Incorrect password. Try again.\")\n"
   ]
  },
  {
   "cell_type": "code",
   "execution_count": 14,
   "metadata": {},
   "outputs": [
    {
     "name": "stdout",
     "output_type": "stream",
     "text": [
      "Series result: 155518821789.71997\n"
     ]
    }
   ],
   "source": [
    "import math\n",
    "\n",
    "# Function to calculate series\n",
    "def calculate_series(x, N):\n",
    "    result = 0\n",
    "    for i in range(1, N + 1):\n",
    "        result += (x * (5 ** i) ** 2) / (i + math.factorial(i + 1))\n",
    "    return result\n",
    "\n",
    "# User input\n",
    "x = float(input(\"Enter value of x: \"))\n",
    "N = int(input(\"Enter value of N: \"))\n",
    "\n",
    "# Compute and print result\n",
    "print(\"Series result:\", calculate_series(x, N))\n"
   ]
  },
  {
   "cell_type": "code",
   "execution_count": null,
   "metadata": {},
   "outputs": [],
   "source": [
    "import numpy as np\n",
    "import matplotlib.pyplot as plt\n",
    "from PIL import Image\n",
    "\n",
    "# Load an image\n",
    "image_path = \"your_image.jpg\"  # Replace with an actual image file\n",
    "image = Image.open(image_path)\n",
    "img_array = np.array(image)\n",
    "\n",
    "# Create mirrored images\n",
    "horizontal_flip = np.fliplr(img_array)\n",
    "vertical_flip = np.flipud(img_array)\n",
    "\n",
    "# Display images\n",
    "fig, ax = plt.subplots(1, 3, figsize=(12, 4))\n",
    "ax[0].imshow(img_array)\n",
    "ax[0].set_title(\"Original Image\")\n",
    "\n",
    "ax[1].imshow(horizontal_flip)\n",
    "ax[1].set_title(\"Horizontal Flip\")\n",
    "\n",
    "ax[2].imshow(vertical_flip)\n",
    "ax[2].set_title(\"Vertical Flip\")\n",
    "\n",
    "plt.show()\n"
   ]
  }
 ],
 "metadata": {
  "kernelspec": {
   "display_name": "Python 3",
   "language": "python",
   "name": "python3"
  },
  "language_info": {
   "codemirror_mode": {
    "name": "ipython",
    "version": 3
   },
   "file_extension": ".py",
   "mimetype": "text/x-python",
   "name": "python",
   "nbconvert_exporter": "python",
   "pygments_lexer": "ipython3",
   "version": "3.12.1"
  }
 },
 "nbformat": 4,
 "nbformat_minor": 2
}
