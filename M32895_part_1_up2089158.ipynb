{
 "cells": [
  {
   "cell_type": "markdown",
   "metadata": {},
   "source": [
    "# Exercise 1\n",
    "\n",
    "## Overview\n",
    "\n",
    "this script checks whether a given number is prime. A prime number is a number greater than 1 that is only divisible by 1 and itself.\n",
    "\n",
    "## How it Works\n",
    "\n",
    "The function takes an integer n as input and checks whether it is prime.\n",
    "If n < 2, it immediately returns False, since numbers less than 2 are not prime.\n",
    "It then loops from 2 to √n (square root of n). If n is divisible by any number in this range, it's not prime.\n",
    "If no divisors are found, the function returns True (indicating n is prime).\n",
    "\n",
    "## User Input Handling\n",
    "\n",
    "The program asks the user to enter a number (num).\n",
    "It then calls is_prime(num) to check if the number is prime."
   ]
  },
  {
   "cell_type": "code",
   "execution_count": 1,
   "metadata": {},
   "outputs": [
    {
     "name": "stdout",
     "output_type": "stream",
     "text": [
      "this is a prime number\n"
     ]
    }
   ],
   "source": [
    "def is_prime(n):\n",
    "    if n < 2:\n",
    "        return False\n",
    "    for i in range(2, int(n ** 0.5) + 1):\n",
    "        if n % i == 0:\n",
    "            return False\n",
    "    return True\n",
    "\n",
    "num = int(input(\"enter a number: \"))\n",
    "if is_prime(num):\n",
    "    print(\"this is a prime number\")\n",
    "else:\n",
    "    print(\"this is not a prime number\")"
   ]
  },
  {
   "cell_type": "markdown",
   "metadata": {},
   "source": [
    "# Exercise 2\n",
    "\n",
    "## Overview\n",
    "\n",
    "This Python script generates the Fibonacci sequence up to a user-specified number of terms. The Fibonacci sequence is a series of numbers where each number is the sum of the two preceding ones, starting from 0 and 1.\n",
    "\n",
    "## How It Works\n",
    "Function Definition (fibonacci(n))\n",
    "\n",
    "Initializes a list fib = [0, 1] containing the first two Fibonacci numbers.\n",
    "Uses a loop from 2 to n-1 to calculate each next term by adding the last two numbers in the list.\n",
    "The function returns the first n terms using fib[:n] to handle cases where n < 2."
   ]
  },
  {
   "cell_type": "code",
   "execution_count": null,
   "metadata": {},
   "outputs": [],
   "source": [
    "# Function to generate Fibonacci sequence\n",
    "def fibonacci(n):\n",
    "    fib = [0, 1]\n",
    "    for i in range(2, n):\n",
    "        fib.append(fib[-1] + fib[-2])\n",
    "    return fib[:n]\n",
    "\n",
    "# Ask user for input\n",
    "num_terms = int(input(\"Enter number of Fibonacci terms: \"))\n",
    "print(\"Fibonacci Sequence:\", fibonacci(num_terms))\n"
   ]
  },
  {
   "cell_type": "markdown",
   "metadata": {},
   "source": [
    "# Exercise 3\n",
    "\n",
    "## Overview\n",
    "\n",
    "This Python script prints a decreasing triangle pattern using the * symbol. The pattern starts with a specified number of rows (rows = 5) and decreases by one * per row until only one * remains.\n",
    "\n",
    "## How it works\n",
    "\n",
    "Initialize rows = 5\n",
    "\n",
    "Defines the total number of rows in the pattern.\n",
    "Looping Structure (for i in range(rows, 0, -1))\n",
    "\n",
    "The loop starts from rows and decrements down to 1.\n",
    "In each iteration, it prints i stars (* ) followed by a newline.\n",
    "Using print('* ' * i)\n",
    "\n",
    "The * string is multiplied by i, which determines the number of stars printed in that row."
   ]
  },
  {
   "cell_type": "code",
   "execution_count": null,
   "metadata": {},
   "outputs": [],
   "source": [
    "# Print decreasing triangle pattern\n",
    "rows = 5\n",
    "for i in range(rows, 0, -1):\n",
    "    print('* ' * i)\n"
   ]
  },
  {
   "cell_type": "markdown",
   "metadata": {},
   "source": [
    "# Exercise 4\n",
    "\n",
    "## Overview\n",
    "\n",
    "This Python script defines a function that reverses a user-provided string and prints the result.\n",
    "\n",
    "## How it Works\n",
    "\n",
    "The function prompts the user to enter a string (text).\n",
    "It then prints the reversed string using slicing (text[::-1]).\n",
    "Using String Slicing ([::-1])\n",
    "\n",
    "The slice notation [::-1] reverses the string by stepping through it backward.\n",
    "This is an efficient way to reverse a string without using loops.\n",
    "Function Execution (reverse_string())\n",
    "\n",
    "The function is called, prompting the user for input and printing the reversed string."
   ]
  },
  {
   "cell_type": "code",
   "execution_count": null,
   "metadata": {},
   "outputs": [],
   "source": [
    "# Function to reverse a string\n",
    "def reverse_string():\n",
    "    text = input(\"Enter a string: \")\n",
    "    print(\"Reversed String:\", text[::-1])\n",
    "\n",
    "# Run the function\n",
    "reverse_string()\n"
   ]
  },
  {
   "cell_type": "markdown",
   "metadata": {},
   "source": [
    "# Exercise 5\n",
    "\n",
    "## overview\n",
    "\n",
    "This Python script defines a function that finds the minimum and maximum values from a given iterable (e.g., list, tuple, set). It then demonstrates the function using a list of numbers.\n",
    "\n",
    "## How It Works\n",
    "\n",
    "The function takes an iterable (list, tuple, etc.) as input.\n",
    "It uses Python’s built-in min() and max() functions to find the smallest and largest values.\n",
    "The function returns these two values as a tuple (min, max).\n",
    "Example Usage (numbers list)\n",
    "\n",
    "The script defines a list: [3, 7, 2, 9, 5, 10, 7, 6].\n",
    "It calls min_max(numbers) to get the minimum and maximum values.\n",
    "The results are printed with descriptive messages."
   ]
  },
  {
   "cell_type": "code",
   "execution_count": null,
   "metadata": {},
   "outputs": [],
   "source": [
    "# Function to find min and max in an iterable\n",
    "def min_max(iterable):\n",
    "    return min(iterable), max(iterable)\n",
    "\n",
    "# Example usage\n",
    "numbers = [3, 7, 2, 9, 5, 10, 7, 6]\n",
    "min_val, max_val = min_max(numbers)\n",
    "print(\"Min value is:\", min_val)\n",
    "print(\"Max value is:\", max_val)\n"
   ]
  },
  {
   "cell_type": "markdown",
   "metadata": {},
   "source": [
    "# Exercise 6\n",
    "\n",
    "## Overview\n",
    "\n",
    "This Python script implements a number guessing game where the program randomly selects a number between 1 and 10, and the user has to guess it. The game provides feedback on whether the guess is too high or too low and continues until the user guesses correctly.\n",
    "\n",
    "## How it Works\n",
    "\n",
    "The script uses the random module to select a random number between 1 and 10.\n",
    "Start an Infinite Loop (while True)\n",
    "\n",
    "The loop keeps running until the user guesses the correct number.\n",
    "The user inputs their guess using input(), which is converted to an integer.\n",
    "Compare the User's Guess with the Secret Number\n",
    "\n",
    "If the guess is higher, the program prints \"Too high! Try again.\".\n",
    "If the guess is lower, the program prints \"Too low! Try again.\".\n",
    "If the guess is correct, the program prints \"Correct! You guessed the number.\" and exits the loop (break)."
   ]
  },
  {
   "cell_type": "code",
   "execution_count": null,
   "metadata": {},
   "outputs": [],
   "source": [
    "import random\n",
    "\n",
    "# Randomly choose a number between 1 and 10\n",
    "secret_number = random.randint(1, 10)\n",
    "\n",
    "while True:\n",
    "    guess = int(input(\"Guess a number (1-10): \"))\n",
    "    \n",
    "    if guess > secret_number:\n",
    "        print(\"Too high! Try again.\")\n",
    "    elif guess < secret_number:\n",
    "        print(\"Too low! Try again.\")\n",
    "    else:\n",
    "        print(\"Correct! You guessed the number.\")\n",
    "        break\n"
   ]
  },
  {
   "cell_type": "markdown",
   "metadata": {},
   "source": [
    "# Exercise 7\n",
    "\n",
    "## Overview\n",
    "\n",
    "This Python script continuously prompts the user to enter a password. The user must enter the correct password to gain access. The loop continues until the correct password is entered.\n",
    "\n",
    "## How it Works\n",
    "\n",
    "The script stores the correct password as \"Github123\".\n",
    "Start an Infinite Loop (while True)\n",
    "\n",
    "The loop runs indefinitely until the user enters the correct password.\n",
    "Check User Input (if password == correct_password)\n",
    "\n",
    "If the entered password matches \"Github123\", it prints \"Access Granted!\" and exits the loop (break).\n",
    "Otherwise, it prints \"Incorrect password. Try again.\", and the loop continues."
   ]
  },
  {
   "cell_type": "code",
   "execution_count": null,
   "metadata": {},
   "outputs": [],
   "source": [
    "# Password checker loop\n",
    "correct_password = \"Github123\"\n",
    "\n",
    "while True:\n",
    "    password = input(\"Enter password: \")\n",
    "    if password == correct_password:\n",
    "        print(\"Access Granted!\")\n",
    "        break\n",
    "    else:\n",
    "        print(\"Incorrect password. Try again.\")\n"
   ]
  },
  {
   "cell_type": "markdown",
   "metadata": {},
   "source": [
    "# Exercise 8 \n",
    "\n",
    "## Overview\n",
    "\n",
    "The code calculates a mathematical series based on user input, where the series involves a combination of powers, multiplication, division, and factorials.\n",
    "\n",
    "## How it Works\n",
    "\n",
    "The code starts by importing Python's built-in math module. This module provides a variety of mathematical functions and constants, like math.factorial() which is used in the code.\n",
    "This is the main function that computes the result of a series. The function takes two arguments:\n",
    "x: A floating-point number that will be used in the series computation.\n",
    "N: An integer that determines the number of terms to include in the series.\n",
    "This loop runs from i = 1 to i = N, which means it will loop N times. Each iteration represents a term in the series that will be added to result.\n"
   ]
  },
  {
   "cell_type": "code",
   "execution_count": null,
   "metadata": {},
   "outputs": [],
   "source": [
    "import math\n",
    "\n",
    "# Function to calculate series\n",
    "def calculate_series(x, N):\n",
    "    result = 0\n",
    "    for i in range(1, N + 1):\n",
    "        result += (x * (5 ** i) ** 2) / (i + math.factorial(i + 1))\n",
    "    return result\n",
    "\n",
    "# User input\n",
    "x = float(input(\"Enter value of x: \"))\n",
    "N = int(input(\"Enter value of N: \"))\n",
    "\n",
    "# Compute and print result\n",
    "print(\"Series result:\", calculate_series(x, N))\n"
   ]
  },
  {
   "cell_type": "markdown",
   "metadata": {},
   "source": [
    "# Exercise 9\n",
    "\n",
    "## Overview\n",
    "\n",
    "This Python code demonstrates how to load an image, create horizontal and vertical mirrored versions of it, and display the original and mirrored images side by side using `matplotlib` and `PIL` (Python Imaging Library).\n",
    "\n",
    "## How it Works\n",
    "\n",
    "This Python code loads an image, creates two mirrored versions of it (horizontal and vertical flips), and displays the original and flipped images side by side using matplotlib.\n",
    "\n",
    "Load the Image: The image is loaded using PIL (Python Imaging Library) and converted to a numpy array for manipulation.\n",
    "\n",
    "Create Mirrored Images:\n",
    "\n",
    "Horizontal Flip: The image is flipped horizontally (mirrored along the vertical axis) using np.fliplr().\n",
    "Vertical Flip: The image is flipped vertically (mirrored along the horizontal axis) using np.flipud().\n",
    "Display Images: The original and flipped images are shown in a single figure with three subplots using matplotlib. Each image is displayed without axis labels for a cleaner look.\n",
    "\n",
    "Result: The code outputs a side-by-side comparison of the original image, its horizontal flip, and its vertical flip."
   ]
  },
  {
   "cell_type": "code",
   "execution_count": null,
   "metadata": {},
   "outputs": [],
   "source": [
    "import numpy as np\n",
    "import matplotlib.pyplot as plt\n",
    "from PIL import Image\n",
    "\n",
    "# Load an image\n",
    "image_path = \"R34_gtr.jpg\" \n",
    "image = Image.open(image_path)\n",
    "img_array = np.array(image)\n",
    "\n",
    "# Create mirrored images\n",
    "horizontal_flip = np.fliplr(img_array)\n",
    "vertical_flip = np.flipud(img_array)\n",
    "\n",
    "# Display images\n",
    "fig, ax = plt.subplots(1, 3, figsize=(12, 4))\n",
    "ax[0].imshow(img_array)\n",
    "ax[0].set_title(\"Original Image\")\n",
    "ax[0].axis('off')\n",
    "\n",
    "ax[1].imshow(horizontal_flip)\n",
    "ax[1].set_title(\"Horizontal Flip\")\n",
    "ax[1].axis('off')\n",
    "\n",
    "ax[2].imshow(vertical_flip)\n",
    "ax[2].set_title(\"Vertical Flip\")\n",
    "ax[2].axis('off')\n",
    "\n",
    "plt.show()\n"
   ]
  },
  {
   "cell_type": "markdown",
   "metadata": {},
   "source": [
    "# Exercise 10\n",
    "\n",
    "## Overview \n",
    "\n",
    "It calculates the minimum, maximum, and average temperatures.\n",
    "Converts the temperatures from Celsius to Fahrenheit.\n",
    "Identifies and counts days with temperatures above 25°C and below 20°C.\n",
    "Reshapes the temperature data into a 5x6 array for better organization.\n",
    "Finally, it prints the results of these calculations.\n",
    "\n",
    "## How it Works\n",
    "\n",
    "Calculates basic statistics (min, max, average) on the temperature dataset.\n",
    "Converts the temperature values from Celsius to Fahrenheit.\n",
    "Filters and counts temperatures above 25°C and below 20°C.\n",
    "Reshapes the temperature data into a 5x6 matrix for a different view of the data.\n",
    "Displays the results of these operations."
   ]
  },
  {
   "cell_type": "code",
   "execution_count": null,
   "metadata": {},
   "outputs": [],
   "source": [
    "import numpy as np\n",
    "\n",
    "# Temperature dataset\n",
    "temperatures = np.array([22, 24, 19, 21, 23, 25, 26, 27, 24, 23, 20, 22, 21, 19, 18, \n",
    "                         22, 23, 24, 26, 28, 30, 27, 25, 26, 24, 22, 21, 20, 19, 23])\n",
    "\n",
    "# Perform calculations\n",
    "min_temp = np.min(temperatures)\n",
    "max_temp = np.max(temperatures)\n",
    "avg_temp = np.mean(temperatures)\n",
    "\n",
    "# Convert Celsius to Fahrenheit\n",
    "fahrenheit = (temperatures * 9/5) + 32\n",
    "\n",
    "# Find days with temperature above 25°C\n",
    "above_25 = temperatures[temperatures > 25]\n",
    "\n",
    "# Count days below 20°C\n",
    "below_20_count = np.sum(temperatures < 20)\n",
    "\n",
    "# Reshape into 5x6 array\n",
    "reshaped_array = temperatures.reshape(5, 6)\n",
    "\n",
    "# Display results\n",
    "print(\"Min Temp:\", min_temp)\n",
    "print(\"Max Temp:\", max_temp)\n",
    "print(\"Average Temp:\", avg_temp)\n",
    "print(\"Temperatures in Fahrenheit:\", fahrenheit)\n",
    "print(\"Days above 25°C:\", above_25)\n",
    "print(\"Days below 20°C:\", below_20_count)\n",
    "print(\"Reshaped Temperature Data\", reshaped_array)\n"
   ]
  }
 ],
 "metadata": {
  "kernelspec": {
   "display_name": "Python 3",
   "language": "python",
   "name": "python3"
  },
  "language_info": {
   "codemirror_mode": {
    "name": "ipython",
    "version": 3
   },
   "file_extension": ".py",
   "mimetype": "text/x-python",
   "name": "python",
   "nbconvert_exporter": "python",
   "pygments_lexer": "ipython3",
   "version": "3.12.1"
  }
 },
 "nbformat": 4,
 "nbformat_minor": 2
}
