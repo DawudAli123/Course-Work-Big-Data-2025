{
 "cells": [
  {
   "cell_type": "code",
   "execution_count": null,
   "id": "756b0400",
   "metadata": {
    "vscode": {
     "languageId": "plaintext"
    }
   },
   "outputs": [],
   "source": [
    "!pip install tensorflow\n"
   ]
  }
 ],
 "metadata": {
  "language_info": {
   "name": "python"
  }
 },
 "nbformat": 4,
 "nbformat_minor": 5
}
